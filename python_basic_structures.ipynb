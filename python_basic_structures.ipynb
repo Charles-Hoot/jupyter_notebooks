{
 "cells": [
  {
   "cell_type": "markdown",
   "metadata": {},
   "source": [
    "# Built In Python Data Structures"
   ]
  },
  {
   "cell_type": "markdown",
   "metadata": {},
   "source": [
    "## List\n",
    "\n",
    "Python lists are an implementation of your bog standard ArrayList (or vector, if you're from C++ land).  It is a data structure that stores elements in _contiguous_ memory (elements are located next to each other in memory).  This leads to the following operating characteristics:\n",
    "\n",
    "| Get/Set | Search | Append/Remove End | Add/Remove at Beginning or Middle| \n",
    "| :---: | :---: | :---: | :---: |\n",
    "| O(1) | O(n) | O(1) | O(n) |\n",
    "\n",
    "Lists are created using the square brackets ([]) with a comma separated list of elements in between (there are other cool ways as well that we may discuss later). Individual elements can be accessed through the _index_ of the element.\n",
    "\n",
    "_Note:_ Python lists are zero indexed; the first element is at index zero, and the last element is at len(list) - 1.  Unlike languages like Java or C++ the elements in the list do NOT need to be the same type"
   ]
  },
  {
   "cell_type": "code",
   "execution_count": 2,
   "metadata": {},
   "outputs": [
    {
     "name": "stdout",
     "output_type": "stream",
     "text": [
      "5\n",
      "3\n",
      "[1, 3, 5, 7]\n",
      "[2, 3, 5, 7]\n"
     ]
    }
   ],
   "source": [
    "my_list = [1, 3, 5, 7]\n",
    "print(my_list[2])\n",
    "print(my_list[1])\n",
    "print(my_list)\n",
    "my_list[0] = 2\n",
    "print(my_list)"
   ]
  },
  {
   "cell_type": "markdown",
   "metadata": {},
   "source": [
    "**Try it!** In the cell below, create a list with 5 elements, then calculate the sum of the elements (and store the sum in another variable).  "
   ]
  },
  {
   "cell_type": "code",
   "execution_count": null,
   "metadata": {},
   "outputs": [],
   "source": []
  },
  {
   "cell_type": "markdown",
   "metadata": {},
   "source": [
    "### List methods and functions\n",
    "\n",
    "For each of these, assume my_list is a Python list\n",
    "\n",
    "* `len(my_list)`: returns the number of elements in the list\n",
    "* `my_list.append(e)`: adds the element to the end of the list\n",
    "* `my_list.extend(another_list)`: appends all elements in `another_list` to the end of `my_list`\n",
    "\n",
    "**Try it!** In the cell below, There are two lists defined; complete the following tasks:\n",
    "\n",
    "* Print the length of `list1`\n",
    "* Add a string to the end of `list2`\n",
    "* Print the length of `list2`\n",
    "* Add all elements in `list2` to the end of `list1`"
   ]
  },
  {
   "cell_type": "code",
   "execution_count": 3,
   "metadata": {},
   "outputs": [],
   "source": [
    "list1 = [1, 3, 5, 'a', 'b', 'c']\n",
    "list2 = ['q', 'w', 'e', 2, 4, 6]"
   ]
  },
  {
   "cell_type": "markdown",
   "metadata": {},
   "source": [
    "### List Iteration\n",
    "\n",
    "Lists in Python are _iterable_; that is you may walk through all the elements of the list and do something to them.  The basic `for` loop in python takes the form:\n",
    "\n",
    "```python\n",
    "for var in iterable:\n",
    "    # do something to var\n",
    "    print(var)\n",
    "```\n",
    "\n",
    "During each iteration of the loop, `var` will contain the value of the next item in the list"
   ]
  },
  {
   "cell_type": "code",
   "execution_count": 4,
   "metadata": {},
   "outputs": [
    {
     "name": "stdout",
     "output_type": "stream",
     "text": [
      "1\n",
      "3\n",
      "5\n",
      "7\n",
      "9\n",
      "---2\n",
      "---6\n",
      "---10\n",
      "---14\n",
      "---18\n"
     ]
    }
   ],
   "source": [
    "list1 = [1, 3, 5, 7, 9]\n",
    "for v in list1:\n",
    "    print(v)\n",
    "\n",
    "for v in list1:\n",
    "    print('---' + str(2*v))"
   ]
  },
  {
   "cell_type": "markdown",
   "metadata": {},
   "source": [
    "**Try it!** Perform the sum exercise above (create a list with many numbers, and calculate the sum) but use a for loop (if you had not before)"
   ]
  },
  {
   "cell_type": "code",
   "execution_count": null,
   "metadata": {},
   "outputs": [],
   "source": []
  },
  {
   "cell_type": "markdown",
   "metadata": {},
   "source": [
    "## Dictionary"
   ]
  },
  {
   "cell_type": "markdown",
   "metadata": {},
   "source": [
    "## Tuple"
   ]
  },
  {
   "cell_type": "markdown",
   "metadata": {},
   "source": [
    "## Sets for fun"
   ]
  }
 ],
 "metadata": {
  "kernelspec": {
   "display_name": "Python 3 (Spyder)",
   "language": "python3",
   "name": "python3"
  },
  "language_info": {
   "codemirror_mode": {
    "name": "ipython",
    "version": 3
   },
   "file_extension": ".py",
   "mimetype": "text/x-python",
   "name": "python",
   "nbconvert_exporter": "python",
   "pygments_lexer": "ipython3",
   "version": "3.7.0"
  }
 },
 "nbformat": 4,
 "nbformat_minor": 2
}
