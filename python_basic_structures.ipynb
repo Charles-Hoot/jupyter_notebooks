{
 "cells": [
  {
   "cell_type": "markdown",
   "metadata": {},
   "source": [
    "# Built In Python Data Structures"
   ]
  },
  {
   "cell_type": "markdown",
   "metadata": {},
   "source": [
    "## List\n",
    "\n",
    "Python lists are an implementation of your bog standard ArrayList (or vector, if you're from C++ land).  It is a data structure that stores elements in _contiguous_ memory (elements are located next to each other in memory).  This leads to the following operating characteristics:\n",
    "\n",
    "| Get/Set | Search | Append/Remove End | Add/Remove at Beginning or Middle| \n",
    "| :---: | :---: | :---: | :---: |\n",
    "| O(1) | O(n) | O(1) | O(n) |\n",
    "\n",
    "Lists are created using the square brackets ([]) with a comma separated list of elements in between (there are other cool ways as well that we may discuss later). Individual elements can be accessed through the _index_ of the element.\n",
    "\n",
    "_Note:_ Python lists are zero indexed; the first element is at index zero, and the last element is at len(list) - 1.  Unlike languages like Java or C++ the elements in the list do NOT need to be the same type"
   ]
  },
  {
   "cell_type": "code",
   "execution_count": 2,
   "metadata": {},
   "outputs": [
    {
     "name": "stdout",
     "output_type": "stream",
     "text": [
      "5\n",
      "3\n",
      "[1, 3, 5, 7]\n",
      "[2, 3, 5, 7]\n"
     ]
    }
   ],
   "source": [
    "my_list = [1, 3, 5, 7]\n",
    "print(my_list[2])\n",
    "print(my_list[1])\n",
    "print(my_list)\n",
    "my_list[0] = 2\n",
    "print(my_list)"
   ]
  },
  {
   "cell_type": "markdown",
   "metadata": {},
   "source": [
    "**Try it!** In the cell below, create a list with 5 elements, then calculate the sum of the elements (and store the sum in another variable).  "
   ]
  },
  {
   "cell_type": "code",
   "execution_count": null,
   "metadata": {},
   "outputs": [],
   "source": []
  },
  {
   "cell_type": "markdown",
   "metadata": {},
   "source": [
    "### Selected list methods and functions\n",
    "\n",
    "For each of these, assume my_list is a Python list\n",
    "\n",
    "* `len(my_list)`: returns the number of elements in the list\n",
    "* `my_list.append(e)`: adds the element to the end of the list\n",
    "* `my_list.extend(another_list)`: appends all elements in `another_list` to the end of `my_list`\n",
    "\n",
    "and so many more!  Check out https://docs.python.org/3/tutorial/datastructures.html#more-on-lists to see a more complete list.\n",
    "\n",
    "**Try it!** In the cell below, There are two lists defined; complete the following tasks:\n",
    "\n",
    "* Print the length of `list1`\n",
    "* Add a string to the end of `list2`\n",
    "* Print the length of `list2`\n",
    "* Add all elements in `list2` to the end of `list1`\n"
   ]
  },
  {
   "cell_type": "code",
   "execution_count": 3,
   "metadata": {},
   "outputs": [],
   "source": [
    "list1 = [1, 3, 5, 'a', 'b', 'c']\n",
    "list2 = ['q', 'w', 'e', 2, 4, 6]"
   ]
  },
  {
   "cell_type": "markdown",
   "metadata": {},
   "source": [
    "### List Iteration\n",
    "\n",
    "Lists in Python are _iterable_; that is you may walk through all the elements of the list and do something to them.  The basic `for` loop in python takes the form:\n",
    "\n",
    "```python\n",
    "for var in iterable:\n",
    "    # do something to var\n",
    "    print(var)\n",
    "```\n",
    "\n",
    "During each iteration of the loop, `var` will contain the value of the next item in the list"
   ]
  },
  {
   "cell_type": "code",
   "execution_count": 4,
   "metadata": {},
   "outputs": [
    {
     "name": "stdout",
     "output_type": "stream",
     "text": [
      "1\n",
      "3\n",
      "5\n",
      "7\n",
      "9\n",
      "---2\n",
      "---6\n",
      "---10\n",
      "---14\n",
      "---18\n"
     ]
    }
   ],
   "source": [
    "list1 = [1, 3, 5, 7, 9]\n",
    "for v in list1:\n",
    "    print(v)\n",
    "\n",
    "for v in list1:\n",
    "    print('---' + str(2*v))"
   ]
  },
  {
   "cell_type": "markdown",
   "metadata": {},
   "source": [
    "**Try it!** Perform the sum exercise above (create a list with many numbers, and calculate the sum) but use a for loop (if you had not before)"
   ]
  },
  {
   "cell_type": "code",
   "execution_count": null,
   "metadata": {},
   "outputs": [],
   "source": []
  },
  {
   "cell_type": "markdown",
   "metadata": {},
   "source": [
    "### List Slicing\n",
    "\n",
    "TODO; finish DICT first"
   ]
  },
  {
   "cell_type": "markdown",
   "metadata": {},
   "source": [
    "## Dictionary\n",
    "\n",
    "Dictionaries (or `dict`s) are the Python implementation of the `HashMap`; that is they store key/value pairs, allow searching based on keys, and are generally downright awesome.  Keys and values do not need to be the same (or consistent) types.  However keys must be _hashable_ (specifically, the objects that are the keys must have the `__hash__()` and `__eq__()` methods defined, though that is an implementation detail we don't necessarily need).\n",
    "\n",
    "Dictionaries can be created using curly brackets (`{}`), with a comma separated list of `key:value` pairs.  As with lists, dictionaries can be \"indexed\" using the key values.  Additionally, keys that have not been used yet may be assigned to (though not read from)."
   ]
  },
  {
   "cell_type": "code",
   "execution_count": 10,
   "metadata": {},
   "outputs": [
    {
     "name": "stdout",
     "output_type": "stream",
     "text": [
      "bob\n",
      "asdf\n",
      "33\n",
      "[90, 100, 5]\n",
      "{'name': 'bob', 'age': 33, 1: 'asdf', 'grades': [90, 100, 5]}\n"
     ]
    }
   ],
   "source": [
    "my_dict = {'name': 'bob', 'age': 33, 1: 'asdf'}\n",
    "print(my_dict['name'])\n",
    "print(my_dict[1])\n",
    "print(my_dict['age'])\n",
    "# print(my_dict['height']) # this throws a KeyError\n",
    "# Check it out! values can be a list!\n",
    "my_dict['grades'] = [90, 100, 5]\n",
    "print(my_dict['grades'])\n",
    "# Lists are NOT HASHABLE, so they cannot be the key\n",
    "print(my_dict)\n"
   ]
  },
  {
   "cell_type": "markdown",
   "metadata": {},
   "source": [
    "**Try it!**: Create a dictionary that contains information about you: your name, your age, your height, and a list of your favorite things.  Print the data in your dictionary."
   ]
  },
  {
   "cell_type": "code",
   "execution_count": null,
   "metadata": {},
   "outputs": [],
   "source": []
  },
  {
   "cell_type": "markdown",
   "metadata": {},
   "source": [
    "Dictionaries have an interesting feature; they have a consistent mapping to the Objects defined in the JSON data serialization format.  One way that we can get information from databases or web APIS is through JSON; this makes it a flexible way for us to access and manipulate data from these kinds of sources.\n",
    "\n",
    "### Selected dictionary methods and functions\n",
    "\n",
    "For each of these assume `my_dict` is a Python Dictionary\n",
    "\n",
    "* `len(my_dict)`: Returns the number of key/value pairs in the dictionary\n",
    "* `my_dict.keys()`: Returns a view of the dictionary's keys\n",
    "* `my_dict.values()`: Returns a view of the dictionary's values\n",
    "* `my_dict.get(key[,default])`: Returns the value associated with the key.  If you specify the optional `default`, will return that if the key does not exist in the dictionary; otherwise if the key does not exist in the dictionary it will raise a `KeyError`\n",
    "\n",
    "Check out https://docs.python.org/3/library/stdtypes.html#typesmapping for a more complete list.\n",
    "\n",
    "### Iteration through dictionaries\n",
    "\n",
    "Dictionaries are iterable; when using a loop to walk through the elements of a dictionary the variable will contain each **key** in the dictionary:"
   ]
  },
  {
   "cell_type": "code",
   "execution_count": 11,
   "metadata": {},
   "outputs": [
    {
     "name": "stdout",
     "output_type": "stream",
     "text": [
      "name bob\n",
      "age 33\n",
      "1 asdf\n"
     ]
    }
   ],
   "source": [
    "my_dict = {'name': 'bob', 'age': 33, 1: 'asdf'}\n",
    "for key in my_dict:\n",
    "    print(key, my_dict[key])"
   ]
  },
  {
   "cell_type": "markdown",
   "metadata": {},
   "source": [
    "## Tuple"
   ]
  },
  {
   "cell_type": "markdown",
   "metadata": {},
   "source": [
    "## Sets for fun"
   ]
  }
 ],
 "metadata": {
  "kernelspec": {
   "display_name": "Python 3 (Spyder)",
   "language": "python3",
   "name": "python3"
  },
  "language_info": {
   "codemirror_mode": {
    "name": "ipython",
    "version": 3
   },
   "file_extension": ".py",
   "mimetype": "text/x-python",
   "name": "python",
   "nbconvert_exporter": "python",
   "pygments_lexer": "ipython3",
   "version": "3.7.0"
  }
 },
 "nbformat": 4,
 "nbformat_minor": 2
}
