{
 "cells": [
  {
   "cell_type": "markdown",
   "metadata": {},
   "source": [
    "# Variables\n",
    "Variables in python are easy to create, you just assign them a value and they appear.  Types... Whatever the data is.  Python is not strongly typed.  This will cause loss of hair later.  Enjoy.\n",
    "\n",
    "print() is the way to get some output"
   ]
  },
  {
   "cell_type": "code",
   "execution_count": 2,
   "metadata": {},
   "outputs": [
    {
     "name": "stdout",
     "output_type": "stream",
     "text": [
      "10\n",
      "this is a string 2.0\n"
     ]
    }
   ],
   "source": [
    "a = 10\n",
    "b = \"this is a string\"\n",
    "c = 'this is also a string'\n",
    "\n",
    "c = 2.0\n",
    "\n",
    "print(a)\n",
    "print(b, c)\n"
   ]
  },
  {
   "cell_type": "markdown",
   "metadata": {},
   "source": [
    "# Selection\n",
    "if is your friend.  We don't use braces to mark code blocks, Python uses a colon and indentation.  It is hard and fast.  If your indentation is wrong, your code is wrong. There is no fancy button fixes up your indentation, sorry.\n"
   ]
  },
  {
   "cell_type": "code",
   "execution_count": 3,
   "metadata": {},
   "outputs": [
    {
     "name": "stdout",
     "output_type": "stream",
     "text": [
      "a is greater than 5\n",
      "c has the value 15.0\n"
     ]
    }
   ],
   "source": [
    "if a > 5 :\n",
    "    print(\"a is greater than 5\")\n",
    "    c += 3\n",
    "else :\n",
    "    print(\"a is not greater than 5\")\n",
    "    c += 6\n",
    "c += 10\n",
    "print(\"c has the value\", c)"
   ]
  },
  {
   "cell_type": "code",
   "execution_count": null,
   "metadata": {},
   "outputs": [],
   "source": [
    "#Looping"
   ]
  },
  {
   "cell_type": "code",
   "execution_count": 4,
   "metadata": {},
   "outputs": [
    {
     "name": "stdout",
     "output_type": "stream",
     "text": [
      "10\n"
     ]
    }
   ],
   "source": [
    "#Python for loops!\n",
    "print(a)\n",
    "d = 20"
   ]
  }
 ],
 "metadata": {
  "kernelspec": {
   "display_name": "Python 3 (Spyder)",
   "language": "python3",
   "name": "python3"
  },
  "language_info": {
   "codemirror_mode": {
    "name": "ipython",
    "version": 3
   },
   "file_extension": ".py",
   "mimetype": "text/x-python",
   "name": "python",
   "nbconvert_exporter": "python",
   "pygments_lexer": "ipython3",
   "version": "3.7.0"
  }
 },
 "nbformat": 4,
 "nbformat_minor": 2
}
