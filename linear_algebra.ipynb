{
 "cells": [
  {
   "cell_type": "markdown",
   "metadata": {},
   "source": [
    "# Linear Algebra\n",
    "\n",
    "You need to know a little bit of linear algebra because a number of the machine learning techniques are expressed more compactly if you use the appropriate notation.\n",
    "\n",
    "We shall see some applications later, but remember that it is all about not having to write as much.\n"
   ]
  },
  {
   "cell_type": "markdown",
   "metadata": {},
   "source": [
    "# Vectors\n",
    "For example, if you want to have a list of values, we can use a vector $v=[0, 1, 3, 4]$.\n",
    "\n",
    "In general, we would write $x = [x_1, x_2, ..., x_n]$ and can refer to a particular value with the subscript notation $x_i$ is the i'th value in the vector."
   ]
  },
  {
   "cell_type": "markdown",
   "metadata": {},
   "source": [
    "# Matrices\n",
    "A 2D matrix is a rectangular arrangement of values.  There are a number of ways that matrices can be used, but the basics involve combining two matrices or a matrix with a vector.\n",
    "\n",
    "Here is an example of a 4 by 3 matrix $\\mathbf{M} = \\left[\\begin{array}{ccc}1&2&3\\\\\n",
    "4&5&6\\\\\n",
    "7&8&9\\\\\n",
    "10&11&12\n",
    "\\end{array}\n",
    "\\right]$\n",
    "\n",
    "We can refer to individual values in the matrix via a subscript like so:\n",
    "\n",
    "$\\mathbf{A} = \\left[\\begin{array}{cccc}\n",
    "a_{1,1}&a_{1,2}&...&a_{1,n}\\\\\n",
    "a_{2,1}&a_{2,2}&...&a_{2,n}\\\\\n",
    "\\vdots&\\vdots&\\ddots&\\vdots\\\\\n",
    "a_{m,1}&a_{m,2}&...&a_{m,n}\n",
    "\\end{array}\n",
    "\\right]$\n",
    "\n",
    "where A is m rows by n columns. We can use a double subscript to refer to values in the array $a_{i,j}$.\n"
   ]
  },
  {
   "cell_type": "markdown",
   "metadata": {},
   "source": [
    "## How do I use numpy?\n",
    "You need to import the package.  In the olden days, the package name was np, so we are going to use that name when we work with numpy"
   ]
  },
  {
   "cell_type": "markdown",
   "metadata": {},
   "source": [
    "# Combining a Matrix and a Vector\n",
    "One standard operation is to multiply a matrix with a vector and produce as a result a new vector. This kind of operation is often linked with transformation of data.  Matrices used in this fashion are called _Transformation Matrices_.  We will define how to do the operation here and look at the corresponding python code and then show that it can be done quicker with numpy.\n",
    "\n",
    "$\\mathbf{A}x = \\left[\\begin{array}{cccc}\n",
    "a_{1,1}&a_{1,2}&...&a_{1,n}\\\\\n",
    "a_{2,1}&a_{2,2}&...&a_{2,n}\\\\\n",
    "\\vdots&\\vdots&\\ddots&\\vdots\\\\\n",
    "a_{m,1}&a_{m,2}&...&a_{m,n}\n",
    "\\end{array} \n",
    "\\right]\n",
    "\\left[\\begin{array}{c}\n",
    "x_1\\\\\n",
    "x_2\\\\\n",
    "x_3\\\\\n",
    "\\vdots\\\\\n",
    "x_n\n",
    "\\end{array} \n",
    "\\right]\n",
    "= [\n",
    "$"
   ]
  },
  {
   "cell_type": "code",
   "execution_count": 1,
   "metadata": {},
   "outputs": [],
   "source": [
    "import numpy as np"
   ]
  },
  {
   "cell_type": "markdown",
   "metadata": {},
   "source": [
    "## Basic numpy structures\n",
    "We will just work with vectors and matrices... or in numpy speak: arrays.  To create a numpy array we need to give it a list that contains the values in our array"
   ]
  },
  {
   "cell_type": "markdown",
   "metadata": {},
   "source": [
    "## Vector\n",
    "A vector is just a one-dimensional array. So to create it we just pass in a list with the values. Here are some examples...  S"
   ]
  },
  {
   "cell_type": "code",
   "execution_count": 3,
   "metadata": {},
   "outputs": [
    {
     "name": "stdout",
     "output_type": "stream",
     "text": [
      "[1 2 3]\n",
      "[ 1.5  2.7  8.9 24. ]\n"
     ]
    }
   ],
   "source": [
    "#This vector has 3 values in it\n",
    "vector1 = np.array([1, 2, 3])\n",
    "print(vector1)\n",
    "\n",
    "#This vector has 4 values in it\n",
    "vector2 = np.array([1.5, 2.7, 8.9, 24])\n",
    "print(vector2)"
   ]
  },
  {
   "cell_type": "markdown",
   "metadata": {},
   "source": [
    "### Basic operations on Vectors"
   ]
  },
  {
   "cell_type": "markdown",
   "metadata": {},
   "source": [
    "### Vector addition\n",
    "If you have two vectors of the same size, you can add them together.  The resulting vector just adds the corresponding values together"
   ]
  },
  {
   "cell_type": "code",
   "execution_count": 12,
   "metadata": {},
   "outputs": [
    {
     "name": "stdout",
     "output_type": "stream",
     "text": [
      "[1 2 3]\n",
      "[ 0  5 10]\n",
      "[ 1  7 13]\n"
     ]
    }
   ],
   "source": [
    "#These vectors have 3 values in them\n",
    "vectorA = np.array([1, 2, 3])\n",
    "vectorB = np.array([0, 5, 10])\n",
    "\n",
    "print(vectorA)\n",
    "print(vectorB)\n",
    "# Put the sum in vectorC\n",
    "# Result is [1+0, 2+5, 3+10]\n",
    "vectorC = vectorA + vectorB\n",
    "print(vectorC)\n",
    "\n"
   ]
  },
  {
   "cell_type": "markdown",
   "metadata": {},
   "source": [
    "### Vector products\n",
    "When working with vectors we have a couple ways that we can do a\n",
    "multiplication like operation.  The inner or dot product takes the\n",
    "corresponding values in the two vectors and multiplies them together.\n",
    "It then takes each of those products and adds them together resulting\n",
    "in a single value.   The outer product is more complicated and used\n",
    "less often. (It results in a 2D array.)"
   ]
  },
  {
   "cell_type": "code",
   "execution_count": 13,
   "metadata": {},
   "outputs": [
    {
     "name": "stdout",
     "output_type": "stream",
     "text": [
      "[1 2 3]\n",
      "[ 0  5 10]\n",
      "40\n",
      "40\n"
     ]
    }
   ],
   "source": [
    "#The dot product of my two vectors\n",
    "#Result is 1*0 + 2*5 + 3*10\n",
    "product = vectorA @ vectorB\n",
    "print(vectorA)\n",
    "print(vectorB)\n",
    "print(product)\n",
    "\n",
    "# or we can do it as\n",
    "product = vectorA.dot(vectorB)\n",
    "print(product)"
   ]
  },
  {
   "cell_type": "markdown",
   "metadata": {},
   "source": [
    "## Matrices\n",
    "A matrix is a multidimensional array.  For our purposes, we will almost always work with 2D arrays, or sometimes 3D arrays.  To create an array we need to create a list of lists.  See the following example."
   ]
  },
  {
   "cell_type": "code",
   "execution_count": 16,
   "metadata": {},
   "outputs": [
    {
     "name": "stdout",
     "output_type": "stream",
     "text": [
      "[[1 2 3]\n",
      " [4 5 6]\n",
      " [7 8 9]]\n",
      "[[1 2 3 4]\n",
      " [4 5 6 8]]\n",
      "(3, 3)\n",
      "(2, 4)\n"
     ]
    }
   ],
   "source": [
    "## The following is a 3 by 3 matrix\n",
    "matrixA = np.array([[1, 2, 3], \n",
    "                    [4, 5, 6], \n",
    "                    [7, 8, 9]])\n",
    "print(matrixA)\n",
    "\n",
    "## The following is a 2 by 4 matrix   (2 rows and 4 columns)\n",
    "matrixB = np.array([[1, 2, 3, 4], \n",
    "                    [4, 5, 6, 8]])\n",
    "print(matrixB)\n",
    "\n",
    "# We can find the size of the array by asking for its shape\n",
    "print(matrixA.shape)\n",
    "print(matrixB.shape)\n"
   ]
  },
  {
   "cell_type": "markdown",
   "metadata": {},
   "source": [
    "### Take me to your leader (the official docs)\n",
    "http://www.numpy.org"
   ]
  }
 ],
 "metadata": {
  "kernelspec": {
   "display_name": "Python 3 (Spyder)",
   "language": "python3",
   "name": "python3"
  },
  "language_info": {
   "codemirror_mode": {
    "name": "ipython",
    "version": 3
   },
   "file_extension": ".py",
   "mimetype": "text/x-python",
   "name": "python",
   "nbconvert_exporter": "python",
   "pygments_lexer": "ipython3",
   "version": "3.7.0"
  }
 },
 "nbformat": 4,
 "nbformat_minor": 2
}
