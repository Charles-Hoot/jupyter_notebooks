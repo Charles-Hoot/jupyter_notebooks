{
 "cells": [
  {
   "cell_type": "markdown",
   "metadata": {},
   "source": [
    "# Python Basics"
   ]
  },
  {
   "cell_type": "markdown",
   "metadata": {},
   "source": [
    "## REPL your way through life\n",
    "\n",
    "If you have an expression, it will be evaluated and the result will be printed.  Unfortunately, this does not happen in the notebook unless it is the last thing that executed in the cell, so we always will print what we want to see."
   ]
  },
  {
   "cell_type": "code",
   "execution_count": 4,
   "metadata": {},
   "outputs": [
    {
     "data": {
      "text/plain": [
       "'Hey'"
      ]
     },
     "execution_count": 4,
     "metadata": {},
     "output_type": "execute_result"
    }
   ],
   "source": [
    "beatle_juice = \"She loves me, yeah, yeah, yeah\"\n",
    "beatle_juice\n",
    "beatle_juice\n",
    "beatle_juice"
   ]
  },
  {
   "cell_type": "markdown",
   "metadata": {},
   "source": [
    "## Primitive Data"
   ]
  },
  {
   "cell_type": "markdown",
   "metadata": {},
   "source": [
    "### Strings\n",
    "    str( any_thing ) gives you a string you can combine with other strings via concatenation\n",
    "    \n",
    "    \n",
    " "
   ]
  },
  {
   "cell_type": "markdown",
   "metadata": {},
   "source": [
    "## Variables\n",
    "Variables in python are easy to create, you just assign them a value and they appear.  Types... Whatever the data is.  Python is not strongly typed.  This will cause loss of hair later.  Enjoy.\n",
    "\n",
    "print() is the way to get some output\n",
    "\n",
    "### Naming Conventions\n",
    "* lowercase with underscores for var/fn\n",
    "* CamelCase for ClassNames\n",
    "* leading _ for private var/fn"
   ]
  },
  {
   "cell_type": "code",
   "execution_count": 1,
   "metadata": {},
   "outputs": [
    {
     "name": "stdout",
     "output_type": "stream",
     "text": [
      "10\n",
      "this is a string 2.0\n"
     ]
    }
   ],
   "source": [
    "a = 10\n",
    "b = \"this is a string\"\n",
    "c = 'this is also a string'\n",
    "\n",
    "c = 2.0\n",
    "\n",
    "print(a)\n",
    "print(b, c)\n"
   ]
  },
  {
   "cell_type": "markdown",
   "metadata": {},
   "source": [
    "## Selection\n",
    "if is your friend.  We don't use braces to mark code blocks, Python uses a colon and indentation.  It is hard and fast.  If your indentation is wrong, your code is wrong. There is no fancy button fixes up your indentation, sorry.\n"
   ]
  },
  {
   "cell_type": "code",
   "execution_count": 3,
   "metadata": {
    "scrolled": true
   },
   "outputs": [
    {
     "name": "stdout",
     "output_type": "stream",
     "text": [
      "a is greater than 5\n",
      "c has the value 15.0\n"
     ]
    }
   ],
   "source": [
    "if a > 5 :\n",
    "    print(\"a is greater than 5\")\n",
    "    c += 3\n",
    "else :\n",
    "    print(\"a is not greater than 5\")\n",
    "    c += 6\n",
    "c += 10\n",
    "print(\"c has the value\", c)"
   ]
  },
  {
   "cell_type": "markdown",
   "metadata": {},
   "source": [
    "## Loops\n",
    "Standard \n",
    "    for i in range(10)\n",
    "    for i in range(6, 10)\n",
    "    for i in some_iterable_structure\n",
    "_Note:_ The loop variable is a local copy, you can change it, but the underlying value in the structure will be unchanged.\n",
    "    \n",
    "while boolean_condition :\n",
    "    loop body\n",
    "    \n",
    "\n",
    "   \n"
   ]
  },
  {
   "cell_type": "code",
   "execution_count": 2,
   "metadata": {
    "scrolled": false
   },
   "outputs": [
    {
     "name": "stdout",
     "output_type": "stream",
     "text": [
      "0\n",
      "1\n",
      "2\n",
      "3\n",
      "4\n",
      "5\n",
      "6\n",
      "7\n",
      "8\n",
      "9\n",
      "-------------------\n",
      "1\n",
      "2\n",
      "3\n",
      "4\n",
      "5\n",
      "6\n",
      "7\n",
      "8\n",
      "9\n"
     ]
    }
   ],
   "source": [
    "#Python for loops!\n",
    "\n",
    "for i in range(10) :\n",
    "    print(i)\n",
    "\n",
    "print(\"-------------------\")\n",
    "# Not that we recommend changing the variable you used to \n",
    "# set up the loop, but Python won't see it as the range is already\n",
    "# fixed\n",
    "n = 10\n",
    "for i in range(1,n) :\n",
    "    n -= 1\n",
    "    print(i)\n"
   ]
  },
  {
   "cell_type": "markdown",
   "metadata": {},
   "source": [
    "## I/O\n",
    "\n",
    "print()\n",
    "    Takes multiple arguments and converts each into a string and puts a space in between.  You can specify the seperator\n",
    "input()\n",
    "    Grabs the next line from standard input and always returns a string.\n",
    "    \n",
    "Can prompt for input as well."
   ]
  },
  {
   "cell_type": "code",
   "execution_count": null,
   "metadata": {},
   "outputs": [],
   "source": [
    "#IO in Python\n"
   ]
  }
 ],
 "metadata": {
  "kernelspec": {
   "display_name": "Python 3 (Spyder)",
   "language": "python3",
   "name": "python3"
  },
  "language_info": {
   "codemirror_mode": {
    "name": "ipython",
    "version": 3
   },
   "file_extension": ".py",
   "mimetype": "text/x-python",
   "name": "python",
   "nbconvert_exporter": "python",
   "pygments_lexer": "ipython3",
   "version": "3.7.0"
  }
 },
 "nbformat": 4,
 "nbformat_minor": 2
}
